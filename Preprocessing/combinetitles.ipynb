{
 "cells": [
  {
   "cell_type": "code",
   "execution_count": 1,
   "metadata": {},
   "outputs": [
    {
     "name": "stderr",
     "output_type": "stream",
     "text": [
      "C:\\Users\\hp\\anaconda3\\lib\\site-packages\\numpy\\_distributor_init.py:30: UserWarning: loaded more than 1 DLL from .libs:\n",
      "C:\\Users\\hp\\anaconda3\\lib\\site-packages\\numpy\\.libs\\libopenblas.GK7GX5KEQ4F6UYO3P26ULGBQYHGQO7J4.gfortran-win_amd64.dll\n",
      "C:\\Users\\hp\\anaconda3\\lib\\site-packages\\numpy\\.libs\\libopenblas.WCDJNK7YVMPZQ2ME2ZZHJJRJ3JIKNDB7.gfortran-win_amd64.dll\n",
      "  warnings.warn(\"loaded more than 1 DLL from .libs:\"\n"
     ]
    }
   ],
   "source": [
    "import pandas as pd\n",
    "import pickle"
   ]
  },
  {
   "cell_type": "code",
   "execution_count": 2,
   "metadata": {},
   "outputs": [],
   "source": [
    "with open('collab.pkl', \"rb\") as g:\n",
    "    loaded_list = pickle.load(g)"
   ]
  },
  {
   "cell_type": "code",
   "execution_count": 3,
   "metadata": {},
   "outputs": [],
   "source": [
    "model=loaded_list[0]\n",
    "titles=loaded_list[1]\n",
    "df=loaded_list[2]\n",
    "books=loaded_list[3]"
   ]
  },
  {
   "cell_type": "code",
   "execution_count": 4,
   "metadata": {},
   "outputs": [],
   "source": [
    "with open('books.pkl', \"rb\") as f:\n",
    "    books_data = pickle.load(f)"
   ]
  },
  {
   "cell_type": "code",
   "execution_count": 5,
   "metadata": {},
   "outputs": [],
   "source": [
    "book_data = pd.DataFrame(books_data)"
   ]
  },
  {
   "cell_type": "code",
   "execution_count": 6,
   "metadata": {},
   "outputs": [
    {
     "data": {
      "text/html": [
       "<div>\n",
       "<style scoped>\n",
       "    .dataframe tbody tr th:only-of-type {\n",
       "        vertical-align: middle;\n",
       "    }\n",
       "\n",
       "    .dataframe tbody tr th {\n",
       "        vertical-align: top;\n",
       "    }\n",
       "\n",
       "    .dataframe thead th {\n",
       "        text-align: right;\n",
       "    }\n",
       "</style>\n",
       "<table border=\"1\" class=\"dataframe\">\n",
       "  <thead>\n",
       "    <tr style=\"text-align: right;\">\n",
       "      <th></th>\n",
       "      <th>title</th>\n",
       "      <th>author</th>\n",
       "      <th>ISBN</th>\n",
       "      <th>summary</th>\n",
       "      <th>image</th>\n",
       "      <th>cosine</th>\n",
       "    </tr>\n",
       "  </thead>\n",
       "  <tbody>\n",
       "    <tr>\n",
       "      <th>0</th>\n",
       "      <td>Venus in the Blind Spot</td>\n",
       "      <td>Junji Ito</td>\n",
       "      <td>9781974715473</td>\n",
       "      <td>A \"best of\" collection of creepy tales from Ei...</td>\n",
       "      <td>//images.leslibraires.ca/books/9781974715473/f...</td>\n",
       "      <td>[6927, 164, 7410, 7513, 7032, 6604, 6930, 1219...</td>\n",
       "    </tr>\n",
       "    <tr>\n",
       "      <th>1</th>\n",
       "      <td>Shadow and Bone</td>\n",
       "      <td>Leigh Bardugo</td>\n",
       "      <td>9781250027436</td>\n",
       "      <td>The Grishaverse will be coming to Netflix soon...</td>\n",
       "      <td>//images.leslibraires.ca/books/9781250027436/f...</td>\n",
       "      <td>[10, 3, 17, 19, 15, 136, 4437, 54, 8246, 910, ...</td>\n",
       "    </tr>\n",
       "    <tr>\n",
       "      <th>2</th>\n",
       "      <td>My Alcoholic Escape from Reality</td>\n",
       "      <td>Nagata Kabi</td>\n",
       "      <td>9781645059998</td>\n",
       "      <td>An emotional new diary comic from the award-wi...</td>\n",
       "      <td>//images.leslibraires.ca/books/9781645059998/f...</td>\n",
       "      <td>[2146, 9852, 801, 1578, 9023, 7519, 1561, 7090...</td>\n",
       "    </tr>\n",
       "    <tr>\n",
       "      <th>3</th>\n",
       "      <td>Siege and Storm</td>\n",
       "      <td>Leigh Bardugo</td>\n",
       "      <td>9781250044433</td>\n",
       "      <td>The Grishaverse will be coming to Netflix soon...</td>\n",
       "      <td>//images.leslibraires.ca/books/9781250044433/f...</td>\n",
       "      <td>[1, 17, 10, 19, 15, 136, 5567, 4437, 910, 826,...</td>\n",
       "    </tr>\n",
       "    <tr>\n",
       "      <th>4</th>\n",
       "      <td>For the Love of Men</td>\n",
       "      <td>Liz Plank</td>\n",
       "      <td>9781250757203</td>\n",
       "      <td>A nonfiction investigation into masculinity,Fo...</td>\n",
       "      <td>//images.leslibraires.ca/books/9781250757203/f...</td>\n",
       "      <td>[363, 9393, 1037, 927, 52, 2384, 6297, 1420, 2...</td>\n",
       "    </tr>\n",
       "  </tbody>\n",
       "</table>\n",
       "</div>"
      ],
      "text/plain": [
       "                              title         author           ISBN  \\\n",
       "0           Venus in the Blind Spot      Junji Ito  9781974715473   \n",
       "1                   Shadow and Bone  Leigh Bardugo  9781250027436   \n",
       "2  My Alcoholic Escape from Reality    Nagata Kabi  9781645059998   \n",
       "3                   Siege and Storm  Leigh Bardugo  9781250044433   \n",
       "4               For the Love of Men      Liz Plank  9781250757203   \n",
       "\n",
       "                                             summary  \\\n",
       "0  A \"best of\" collection of creepy tales from Ei...   \n",
       "1  The Grishaverse will be coming to Netflix soon...   \n",
       "2  An emotional new diary comic from the award-wi...   \n",
       "3  The Grishaverse will be coming to Netflix soon...   \n",
       "4  A nonfiction investigation into masculinity,Fo...   \n",
       "\n",
       "                                               image  \\\n",
       "0  //images.leslibraires.ca/books/9781974715473/f...   \n",
       "1  //images.leslibraires.ca/books/9781250027436/f...   \n",
       "2  //images.leslibraires.ca/books/9781645059998/f...   \n",
       "3  //images.leslibraires.ca/books/9781250044433/f...   \n",
       "4  //images.leslibraires.ca/books/9781250757203/f...   \n",
       "\n",
       "                                              cosine  \n",
       "0  [6927, 164, 7410, 7513, 7032, 6604, 6930, 1219...  \n",
       "1  [10, 3, 17, 19, 15, 136, 4437, 54, 8246, 910, ...  \n",
       "2  [2146, 9852, 801, 1578, 9023, 7519, 1561, 7090...  \n",
       "3  [1, 17, 10, 19, 15, 136, 5567, 4437, 910, 826,...  \n",
       "4  [363, 9393, 1037, 927, 52, 2384, 6297, 1420, 2...  "
      ]
     },
     "execution_count": 6,
     "metadata": {},
     "output_type": "execute_result"
    }
   ],
   "source": [
    "book_data.head()"
   ]
  },
  {
   "cell_type": "code",
   "execution_count": 7,
   "metadata": {},
   "outputs": [
    {
     "data": {
      "text/html": [
       "<div>\n",
       "<style scoped>\n",
       "    .dataframe tbody tr th:only-of-type {\n",
       "        vertical-align: middle;\n",
       "    }\n",
       "\n",
       "    .dataframe tbody tr th {\n",
       "        vertical-align: top;\n",
       "    }\n",
       "\n",
       "    .dataframe thead th {\n",
       "        text-align: right;\n",
       "    }\n",
       "</style>\n",
       "<table border=\"1\" class=\"dataframe\">\n",
       "  <thead>\n",
       "    <tr style=\"text-align: right;\">\n",
       "      <th></th>\n",
       "      <th>ISBN</th>\n",
       "      <th>title</th>\n",
       "      <th>author</th>\n",
       "      <th>image_url</th>\n",
       "    </tr>\n",
       "  </thead>\n",
       "  <tbody>\n",
       "    <tr>\n",
       "      <th>0</th>\n",
       "      <td>0451168089</td>\n",
       "      <td>'Salem's Lot</td>\n",
       "      <td>Stephen King</td>\n",
       "      <td>http://images.amazon.com/images/P/0451168089.0...</td>\n",
       "    </tr>\n",
       "    <tr>\n",
       "      <th>1</th>\n",
       "      <td>0399143025</td>\n",
       "      <td>10 Lb. Penalty</td>\n",
       "      <td>Dick Francis</td>\n",
       "      <td>http://images.amazon.com/images/P/0399143025.0...</td>\n",
       "    </tr>\n",
       "    <tr>\n",
       "      <th>2</th>\n",
       "      <td>0307001164</td>\n",
       "      <td>101 Dalmatians</td>\n",
       "      <td>Justine Korman</td>\n",
       "      <td>http://images.amazon.com/images/P/0307001164.0...</td>\n",
       "    </tr>\n",
       "    <tr>\n",
       "      <th>3</th>\n",
       "      <td>0894803700</td>\n",
       "      <td>14,000 Things to Be Happy About</td>\n",
       "      <td>Barbara Ann Kipfer</td>\n",
       "      <td>http://images.amazon.com/images/P/0894803700.0...</td>\n",
       "    </tr>\n",
       "    <tr>\n",
       "      <th>4</th>\n",
       "      <td>1551668300</td>\n",
       "      <td>16 Lighthouse Road</td>\n",
       "      <td>Debbie Macomber</td>\n",
       "      <td>http://images.amazon.com/images/P/1551668300.0...</td>\n",
       "    </tr>\n",
       "    <tr>\n",
       "      <th>...</th>\n",
       "      <td>...</td>\n",
       "      <td>...</td>\n",
       "      <td>...</td>\n",
       "      <td>...</td>\n",
       "    </tr>\n",
       "    <tr>\n",
       "      <th>5849</th>\n",
       "      <td>0449003787</td>\n",
       "      <td>\\O\\\" Is for Outlaw\"</td>\n",
       "      <td>SUE GRAFTON</td>\n",
       "      <td>http://images.amazon.com/images/P/0449003787.0...</td>\n",
       "    </tr>\n",
       "    <tr>\n",
       "      <th>5850</th>\n",
       "      <td>0393316041</td>\n",
       "      <td>\\Surely You're Joking, Mr. Feynman!\\\": Adventu...</td>\n",
       "      <td>Richard P. Feynman</td>\n",
       "      <td>http://images.amazon.com/images/P/0393316041.0...</td>\n",
       "    </tr>\n",
       "    <tr>\n",
       "      <th>5851</th>\n",
       "      <td>0452281881</td>\n",
       "      <td>e</td>\n",
       "      <td>Matt Beaumont</td>\n",
       "      <td>http://images.amazon.com/images/P/0452281881.0...</td>\n",
       "    </tr>\n",
       "    <tr>\n",
       "      <th>5852</th>\n",
       "      <td>880781210X</td>\n",
       "      <td>iI Paradiso Degli Orchi</td>\n",
       "      <td>Daniel Pennac</td>\n",
       "      <td>http://images.amazon.com/images/P/880781210X.0...</td>\n",
       "    </tr>\n",
       "    <tr>\n",
       "      <th>5853</th>\n",
       "      <td>0060934719</td>\n",
       "      <td>stardust</td>\n",
       "      <td>Neil Gaiman</td>\n",
       "      <td>http://images.amazon.com/images/P/0060934719.0...</td>\n",
       "    </tr>\n",
       "  </tbody>\n",
       "</table>\n",
       "<p>5854 rows × 4 columns</p>\n",
       "</div>"
      ],
      "text/plain": [
       "            ISBN                                              title  \\\n",
       "0     0451168089                                       'Salem's Lot   \n",
       "1     0399143025                                     10 Lb. Penalty   \n",
       "2     0307001164                                     101 Dalmatians   \n",
       "3     0894803700                    14,000 Things to Be Happy About   \n",
       "4     1551668300                                 16 Lighthouse Road   \n",
       "...          ...                                                ...   \n",
       "5849  0449003787                                \\O\\\" Is for Outlaw\"   \n",
       "5850  0393316041  \\Surely You're Joking, Mr. Feynman!\\\": Adventu...   \n",
       "5851  0452281881                                                  e   \n",
       "5852  880781210X                            iI Paradiso Degli Orchi   \n",
       "5853  0060934719                                           stardust   \n",
       "\n",
       "                  author                                          image_url  \n",
       "0           Stephen King  http://images.amazon.com/images/P/0451168089.0...  \n",
       "1           Dick Francis  http://images.amazon.com/images/P/0399143025.0...  \n",
       "2         Justine Korman  http://images.amazon.com/images/P/0307001164.0...  \n",
       "3     Barbara Ann Kipfer  http://images.amazon.com/images/P/0894803700.0...  \n",
       "4        Debbie Macomber  http://images.amazon.com/images/P/1551668300.0...  \n",
       "...                  ...                                                ...  \n",
       "5849         SUE GRAFTON  http://images.amazon.com/images/P/0449003787.0...  \n",
       "5850  Richard P. Feynman  http://images.amazon.com/images/P/0393316041.0...  \n",
       "5851       Matt Beaumont  http://images.amazon.com/images/P/0452281881.0...  \n",
       "5852       Daniel Pennac  http://images.amazon.com/images/P/880781210X.0...  \n",
       "5853         Neil Gaiman  http://images.amazon.com/images/P/0060934719.0...  \n",
       "\n",
       "[5854 rows x 4 columns]"
      ]
     },
     "execution_count": 7,
     "metadata": {},
     "output_type": "execute_result"
    }
   ],
   "source": [
    "books"
   ]
  },
  {
   "cell_type": "code",
   "execution_count": 8,
   "metadata": {
    "scrolled": false
   },
   "outputs": [],
   "source": [
    "lst = books['title'].tolist()\n",
    "lst1=book_data['title'].tolist()\n",
    "lst2 = lst+lst1"
   ]
  },
  {
   "cell_type": "code",
   "execution_count": 9,
   "metadata": {},
   "outputs": [
    {
     "data": {
      "text/plain": [
       "(15640, 1)"
      ]
     },
     "execution_count": 9,
     "metadata": {},
     "output_type": "execute_result"
    }
   ],
   "source": [
    "titles = pd.DataFrame(lst2,columns=['title'])\n",
    "titles.drop_duplicates(inplace=True,ignore_index=True)\n",
    "titles.shape"
   ]
  },
  {
   "cell_type": "code",
   "execution_count": 10,
   "metadata": {},
   "outputs": [
    {
     "data": {
      "text/html": [
       "<div>\n",
       "<style scoped>\n",
       "    .dataframe tbody tr th:only-of-type {\n",
       "        vertical-align: middle;\n",
       "    }\n",
       "\n",
       "    .dataframe tbody tr th {\n",
       "        vertical-align: top;\n",
       "    }\n",
       "\n",
       "    .dataframe thead th {\n",
       "        text-align: right;\n",
       "    }\n",
       "</style>\n",
       "<table border=\"1\" class=\"dataframe\">\n",
       "  <thead>\n",
       "    <tr style=\"text-align: right;\">\n",
       "      <th></th>\n",
       "      <th>title</th>\n",
       "    </tr>\n",
       "  </thead>\n",
       "  <tbody>\n",
       "    <tr>\n",
       "      <th>0</th>\n",
       "      <td>'Salem's Lot</td>\n",
       "    </tr>\n",
       "    <tr>\n",
       "      <th>1</th>\n",
       "      <td>10 Lb. Penalty</td>\n",
       "    </tr>\n",
       "    <tr>\n",
       "      <th>2</th>\n",
       "      <td>101 Dalmatians</td>\n",
       "    </tr>\n",
       "    <tr>\n",
       "      <th>3</th>\n",
       "      <td>14,000 Things to Be Happy About</td>\n",
       "    </tr>\n",
       "    <tr>\n",
       "      <th>4</th>\n",
       "      <td>16 Lighthouse Road</td>\n",
       "    </tr>\n",
       "    <tr>\n",
       "      <th>...</th>\n",
       "      <td>...</td>\n",
       "    </tr>\n",
       "    <tr>\n",
       "      <th>15635</th>\n",
       "      <td>Business Objectives New Edition: Workbook</td>\n",
       "    </tr>\n",
       "    <tr>\n",
       "      <th>15636</th>\n",
       "      <td>Business Objectives New Edition: Teacher's Book</td>\n",
       "    </tr>\n",
       "    <tr>\n",
       "      <th>15637</th>\n",
       "      <td>Business Opportunities: Student Book</td>\n",
       "    </tr>\n",
       "    <tr>\n",
       "      <th>15638</th>\n",
       "      <td>Business Opportunities: Workbook</td>\n",
       "    </tr>\n",
       "    <tr>\n",
       "      <th>15639</th>\n",
       "      <td>Wide Angle: Level 2 Workbook</td>\n",
       "    </tr>\n",
       "  </tbody>\n",
       "</table>\n",
       "<p>15640 rows × 1 columns</p>\n",
       "</div>"
      ],
      "text/plain": [
       "                                                 title\n",
       "0                                         'Salem's Lot\n",
       "1                                       10 Lb. Penalty\n",
       "2                                       101 Dalmatians\n",
       "3                      14,000 Things to Be Happy About\n",
       "4                                   16 Lighthouse Road\n",
       "...                                                ...\n",
       "15635        Business Objectives New Edition: Workbook\n",
       "15636  Business Objectives New Edition: Teacher's Book\n",
       "15637             Business Opportunities: Student Book\n",
       "15638                 Business Opportunities: Workbook\n",
       "15639                     Wide Angle: Level 2 Workbook\n",
       "\n",
       "[15640 rows x 1 columns]"
      ]
     },
     "execution_count": 10,
     "metadata": {},
     "output_type": "execute_result"
    }
   ],
   "source": [
    "titles"
   ]
  },
  {
   "cell_type": "code",
   "execution_count": 11,
   "metadata": {},
   "outputs": [],
   "source": [
    "with open('titles.pkl', 'wb') as f:\n",
    "    pickle.dump(titles, f)"
   ]
  }
 ],
 "metadata": {
  "kernelspec": {
   "display_name": "Python 3",
   "language": "python",
   "name": "python3"
  },
  "language_info": {
   "codemirror_mode": {
    "name": "ipython",
    "version": 3
   },
   "file_extension": ".py",
   "mimetype": "text/x-python",
   "name": "python",
   "nbconvert_exporter": "python",
   "pygments_lexer": "ipython3",
   "version": "3.8.5"
  }
 },
 "nbformat": 4,
 "nbformat_minor": 4
}
