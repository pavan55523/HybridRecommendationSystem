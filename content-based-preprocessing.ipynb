{
 "cells": [
  {
   "cell_type": "code",
   "execution_count": 1,
   "metadata": {
    "id": "0nvMAzN4eU4J"
   },
   "outputs": [],
   "source": [
    "from bs4 import BeautifulSoup\n",
    "import requests"
   ]
  },
  {
   "cell_type": "code",
   "execution_count": 2,
   "metadata": {
    "id": "s_BUXw2DekTZ"
   },
   "outputs": [],
   "source": [
    "# function to extract data from a book's page on the website\n",
    "def get_book_info(url):\n",
    "    page = requests.get(url)\n",
    "    soup = BeautifulSoup(page.content, 'html.parser')\n",
    "    data = {'title': soup.find('h1', {'class': 'book-title'}).text,\n",
    "            'author': soup.find('a', {'class': 'book-meta-author-name'}).text.replace('\\n', ''),\n",
    "            'ISBN':  soup.find('div', {'id': 'sel-buy-box'}).find('span', {'class': 'buy-box--isbn'}).text[6:],\n",
    "            'summary': soup.find('div', {'class': 'book-summary'}).text.replace('\\n', ''),\n",
    "            'image': soup.find('img', {'class': 'book-image'})['src']}\n",
    "    return data"
   ]
  },
  {
   "cell_type": "code",
   "execution_count": null,
   "metadata": {
    "colab": {
     "base_uri": "https://localhost:8080/",
     "height": 1000
    },
    "id": "25CH5Q18eyWC",
    "outputId": "9b06deea-8808-416c-d623-dab3e3f9a30b"
   },
   "outputs": [],
   "source": [
    "'''# get data about most popular books on the website\n",
    "full_data = []\n",
    "for page in range(1000):\n",
    "    print(page)\n",
    "    page = requests.get('https://www.leslibraires.ca/categorie/livres-anglais-ANG/?tri=plus-populaires&ic=25&p={}'.format(page))\n",
    "    soup = BeautifulSoup(page.content, 'html.parser')\n",
    "    for book in soup.find_all('a', {'class': 'book-title'}):\n",
    "        base_url = 'https://www.leslibraires.ca'\n",
    "        url = base_url + book['href']\n",
    "        try:\n",
    "            full_data.append(get_book_info(url))\n",
    "        except Exception as e:\n",
    "            print(e)\n",
    "'''"
   ]
  },
  {
   "cell_type": "code",
   "execution_count": null,
   "metadata": {},
   "outputs": [],
   "source": [
    "# %store -r full_data"
   ]
  },
  {
   "cell_type": "code",
   "execution_count": 4,
   "metadata": {
    "id": "8G6-h51qu2qT"
   },
   "outputs": [
    {
     "data": {
      "text/plain": [
       "10757"
      ]
     },
     "execution_count": 4,
     "metadata": {},
     "output_type": "execute_result"
    }
   ],
   "source": [
    "len(full_data)"
   ]
  },
  {
   "cell_type": "code",
   "execution_count": 5,
   "metadata": {
    "id": "2uyvlpAtsMHo"
   },
   "outputs": [
    {
     "data": {
      "text/plain": [
       "{'title': 'Venus in the Blind Spot',\n",
       " 'author': 'Junji Ito',\n",
       " 'ISBN': '9781974715473',\n",
       " 'summary': 'A \"best of\" collection of creepy tales from Eisner award winner and legendary horror master Junji Ito.This ultimate collection presents the most remarkable short works of Junji Ito’s career, featuring an adaptation of Rampo Edogawa’s classic horror story \"Human Chair\" and fan favorite \"The Enigma of Amigara Fault.\" In a deluxe presentation with special color pages and color illustrations from his most recent long-form manga No Longer Human, every page invites readers to revel in a world of terror.',\n",
       " 'image': '//images.leslibraires.ca/books/9781974715473/front/9781974715473_medium.jpg'}"
      ]
     },
     "execution_count": 5,
     "metadata": {},
     "output_type": "execute_result"
    }
   ],
   "source": [
    "full_data[0]"
   ]
  },
  {
   "cell_type": "code",
   "execution_count": 6,
   "metadata": {
    "id": "3maAkvJSu7_E"
   },
   "outputs": [],
   "source": [
    "# remove books appearing more than once\n",
    "book_data_no_duplicates = []\n",
    "titles = []\n",
    "for book in full_data:\n",
    "    if book['title'] not in titles:\n",
    "        titles.append(book['title'])\n",
    "        book_data_no_duplicates.append(book)\n",
    "        \n",
    "full_data = book_data_no_duplicates"
   ]
  },
  {
   "cell_type": "code",
   "execution_count": 7,
   "metadata": {},
   "outputs": [
    {
     "data": {
      "text/plain": [
       "10101"
      ]
     },
     "execution_count": 7,
     "metadata": {},
     "output_type": "execute_result"
    }
   ],
   "source": [
    "len(full_data)"
   ]
  },
  {
   "cell_type": "markdown",
   "metadata": {
    "id": "9OFDbyM5vAKw"
   },
   "source": [
    "# Encode description of books using tensorflow"
   ]
  },
  {
   "cell_type": "code",
   "execution_count": 8,
   "metadata": {
    "scrolled": true
   },
   "outputs": [
    {
     "name": "stdout",
     "output_type": "stream",
     "text": [
      "Requirement already satisfied: tensorflow_hub in c:\\users\\hp\\appdata\\roaming\\python\\python38\\site-packages (0.12.0)\n",
      "Requirement already satisfied: protobuf>=3.8.0 in c:\\users\\hp\\appdata\\roaming\\python\\python38\\site-packages (from tensorflow_hub) (3.17.0)\n",
      "Requirement already satisfied: numpy>=1.12.0 in c:\\users\\hp\\appdata\\roaming\\python\\python38\\site-packages (from tensorflow_hub) (1.19.5)\n",
      "Requirement already satisfied: six>=1.9 in c:\\users\\hp\\appdata\\roaming\\python\\python38\\site-packages (from protobuf>=3.8.0->tensorflow_hub) (1.15.0)\n",
      "Requirement already satisfied: tensorflow-text in c:\\users\\hp\\appdata\\roaming\\python\\python38\\site-packages (2.4.3)\n",
      "Requirement already satisfied: tensorflow-hub>=0.8.0 in c:\\users\\hp\\appdata\\roaming\\python\\python38\\site-packages (from tensorflow-text) (0.12.0)\n",
      "Requirement already satisfied: tensorflow<2.5,>=2.4.0 in c:\\users\\hp\\appdata\\roaming\\python\\python38\\site-packages (from tensorflow-text) (2.4.1)\n",
      "Requirement already satisfied: numpy>=1.12.0 in c:\\users\\hp\\appdata\\roaming\\python\\python38\\site-packages (from tensorflow-hub>=0.8.0->tensorflow-text) (1.19.5)\n",
      "Requirement already satisfied: protobuf>=3.8.0 in c:\\users\\hp\\appdata\\roaming\\python\\python38\\site-packages (from tensorflow-hub>=0.8.0->tensorflow-text) (3.17.0)\n",
      "Requirement already satisfied: grpcio~=1.32.0 in c:\\users\\hp\\appdata\\roaming\\python\\python38\\site-packages (from tensorflow<2.5,>=2.4.0->tensorflow-text) (1.32.0)\n",
      "Requirement already satisfied: absl-py~=0.10 in c:\\users\\hp\\appdata\\roaming\\python\\python38\\site-packages (from tensorflow<2.5,>=2.4.0->tensorflow-text) (0.12.0)\n",
      "Requirement already satisfied: six~=1.15.0 in c:\\users\\hp\\appdata\\roaming\\python\\python38\\site-packages (from tensorflow<2.5,>=2.4.0->tensorflow-text) (1.15.0)\n",
      "Requirement already satisfied: keras-preprocessing~=1.1.2 in c:\\users\\hp\\appdata\\roaming\\python\\python38\\site-packages (from tensorflow<2.5,>=2.4.0->tensorflow-text) (1.1.2)\n",
      "Requirement already satisfied: typing-extensions~=3.7.4 in c:\\users\\hp\\appdata\\roaming\\python\\python38\\site-packages (from tensorflow<2.5,>=2.4.0->tensorflow-text) (3.7.4.3)\n",
      "Requirement already satisfied: wheel~=0.35 in c:\\users\\hp\\appdata\\roaming\\python\\python38\\site-packages (from tensorflow<2.5,>=2.4.0->tensorflow-text) (0.36.2)\n",
      "Requirement already satisfied: astunparse~=1.6.3 in c:\\users\\hp\\appdata\\roaming\\python\\python38\\site-packages (from tensorflow<2.5,>=2.4.0->tensorflow-text) (1.6.3)\n",
      "Requirement already satisfied: flatbuffers~=1.12.0 in c:\\users\\hp\\appdata\\roaming\\python\\python38\\site-packages (from tensorflow<2.5,>=2.4.0->tensorflow-text) (1.12)\n",
      "Requirement already satisfied: gast==0.3.3 in c:\\users\\hp\\appdata\\roaming\\python\\python38\\site-packages (from tensorflow<2.5,>=2.4.0->tensorflow-text) (0.3.3)\n",
      "Requirement already satisfied: tensorflow-estimator<2.5.0,>=2.4.0 in c:\\users\\hp\\appdata\\roaming\\python\\python38\\site-packages (from tensorflow<2.5,>=2.4.0->tensorflow-text) (2.4.0)\n",
      "Requirement already satisfied: google-pasta~=0.2 in c:\\users\\hp\\appdata\\roaming\\python\\python38\\site-packages (from tensorflow<2.5,>=2.4.0->tensorflow-text) (0.2.0)\n",
      "Requirement already satisfied: h5py~=2.10.0 in c:\\users\\hp\\appdata\\roaming\\python\\python38\\site-packages (from tensorflow<2.5,>=2.4.0->tensorflow-text) (2.10.0)\n",
      "Requirement already satisfied: termcolor~=1.1.0 in c:\\users\\hp\\appdata\\roaming\\python\\python38\\site-packages (from tensorflow<2.5,>=2.4.0->tensorflow-text) (1.1.0)\n",
      "Requirement already satisfied: tensorboard~=2.4 in c:\\users\\hp\\appdata\\roaming\\python\\python38\\site-packages (from tensorflow<2.5,>=2.4.0->tensorflow-text) (2.5.0)\n",
      "Requirement already satisfied: opt-einsum~=3.3.0 in c:\\users\\hp\\appdata\\roaming\\python\\python38\\site-packages (from tensorflow<2.5,>=2.4.0->tensorflow-text) (3.3.0)\n",
      "Requirement already satisfied: wrapt~=1.12.1 in c:\\users\\hp\\appdata\\roaming\\python\\python38\\site-packages (from tensorflow<2.5,>=2.4.0->tensorflow-text) (1.12.1)\n",
      "Requirement already satisfied: requests<3,>=2.21.0 in c:\\users\\hp\\appdata\\roaming\\python\\python38\\site-packages (from tensorboard~=2.4->tensorflow<2.5,>=2.4.0->tensorflow-text) (2.25.1)\n",
      "Requirement already satisfied: google-auth-oauthlib<0.5,>=0.4.1 in c:\\users\\hp\\appdata\\roaming\\python\\python38\\site-packages (from tensorboard~=2.4->tensorflow<2.5,>=2.4.0->tensorflow-text) (0.4.4)\n",
      "Requirement already satisfied: google-auth<2,>=1.6.3 in c:\\users\\hp\\appdata\\roaming\\python\\python38\\site-packages (from tensorboard~=2.4->tensorflow<2.5,>=2.4.0->tensorflow-text) (1.30.0)\n",
      "Requirement already satisfied: markdown>=2.6.8 in c:\\users\\hp\\appdata\\roaming\\python\\python38\\site-packages (from tensorboard~=2.4->tensorflow<2.5,>=2.4.0->tensorflow-text) (3.3.4)\n",
      "Requirement already satisfied: setuptools>=41.0.0 in c:\\users\\hp\\appdata\\roaming\\python\\python38\\site-packages (from tensorboard~=2.4->tensorflow<2.5,>=2.4.0->tensorflow-text) (56.2.0)\n",
      "Requirement already satisfied: tensorboard-plugin-wit>=1.6.0 in c:\\users\\hp\\appdata\\roaming\\python\\python38\\site-packages (from tensorboard~=2.4->tensorflow<2.5,>=2.4.0->tensorflow-text) (1.8.0)\n",
      "Requirement already satisfied: tensorboard-data-server<0.7.0,>=0.6.0 in c:\\users\\hp\\appdata\\roaming\\python\\python38\\site-packages (from tensorboard~=2.4->tensorflow<2.5,>=2.4.0->tensorflow-text) (0.6.1)\n",
      "Requirement already satisfied: werkzeug>=0.11.15 in c:\\users\\hp\\appdata\\roaming\\python\\python38\\site-packages (from tensorboard~=2.4->tensorflow<2.5,>=2.4.0->tensorflow-text) (2.0.1)\n",
      "Requirement already satisfied: idna<3,>=2.5 in c:\\users\\hp\\appdata\\roaming\\python\\python38\\site-packages (from requests<3,>=2.21.0->tensorboard~=2.4->tensorflow<2.5,>=2.4.0->tensorflow-text) (2.10)\n",
      "Requirement already satisfied: urllib3<1.27,>=1.21.1 in c:\\users\\hp\\appdata\\roaming\\python\\python38\\site-packages (from requests<3,>=2.21.0->tensorboard~=2.4->tensorflow<2.5,>=2.4.0->tensorflow-text) (1.26.4)\n",
      "Requirement already satisfied: certifi>=2017.4.17 in c:\\users\\hp\\appdata\\roaming\\python\\python38\\site-packages (from requests<3,>=2.21.0->tensorboard~=2.4->tensorflow<2.5,>=2.4.0->tensorflow-text) (2020.12.5)\n",
      "Requirement already satisfied: chardet<5,>=3.0.2 in c:\\users\\hp\\appdata\\roaming\\python\\python38\\site-packages (from requests<3,>=2.21.0->tensorboard~=2.4->tensorflow<2.5,>=2.4.0->tensorflow-text) (4.0.0)\n",
      "Requirement already satisfied: requests-oauthlib>=0.7.0 in c:\\users\\hp\\appdata\\roaming\\python\\python38\\site-packages (from google-auth-oauthlib<0.5,>=0.4.1->tensorboard~=2.4->tensorflow<2.5,>=2.4.0->tensorflow-text) (1.3.0)\n",
      "Requirement already satisfied: rsa<5,>=3.1.4; python_version >= \"3.6\" in c:\\users\\hp\\appdata\\roaming\\python\\python38\\site-packages (from google-auth<2,>=1.6.3->tensorboard~=2.4->tensorflow<2.5,>=2.4.0->tensorflow-text) (4.7.2)\n",
      "Requirement already satisfied: pyasn1-modules>=0.2.1 in c:\\users\\hp\\appdata\\roaming\\python\\python38\\site-packages (from google-auth<2,>=1.6.3->tensorboard~=2.4->tensorflow<2.5,>=2.4.0->tensorflow-text) (0.2.8)\n",
      "Requirement already satisfied: cachetools<5.0,>=2.0.0 in c:\\users\\hp\\appdata\\roaming\\python\\python38\\site-packages (from google-auth<2,>=1.6.3->tensorboard~=2.4->tensorflow<2.5,>=2.4.0->tensorflow-text) (4.2.2)\n",
      "Requirement already satisfied: oauthlib>=3.0.0 in c:\\users\\hp\\appdata\\roaming\\python\\python38\\site-packages (from requests-oauthlib>=0.7.0->google-auth-oauthlib<0.5,>=0.4.1->tensorboard~=2.4->tensorflow<2.5,>=2.4.0->tensorflow-text) (3.1.0)\n",
      "Requirement already satisfied: pyasn1>=0.1.3 in c:\\users\\hp\\appdata\\roaming\\python\\python38\\site-packages (from rsa<5,>=3.1.4; python_version >= \"3.6\"->google-auth<2,>=1.6.3->tensorboard~=2.4->tensorflow<2.5,>=2.4.0->tensorflow-text) (0.4.8)\n"
     ]
    }
   ],
   "source": [
    "!pip install tensorflow_hub\n",
    "!pip install tensorflow-text"
   ]
  },
  {
   "cell_type": "code",
   "execution_count": 9,
   "metadata": {
    "id": "pA3Z1gN3vBka"
   },
   "outputs": [
    {
     "name": "stderr",
     "output_type": "stream",
     "text": [
      "C:\\Users\\hp\\anaconda3\\lib\\site-packages\\numpy\\_distributor_init.py:30: UserWarning: loaded more than 1 DLL from .libs:\n",
      "C:\\Users\\hp\\anaconda3\\lib\\site-packages\\numpy\\.libs\\libopenblas.GK7GX5KEQ4F6UYO3P26ULGBQYHGQO7J4.gfortran-win_amd64.dll\n",
      "C:\\Users\\hp\\anaconda3\\lib\\site-packages\\numpy\\.libs\\libopenblas.WCDJNK7YVMPZQ2ME2ZZHJJRJ3JIKNDB7.gfortran-win_amd64.dll\n",
      "  warnings.warn(\"loaded more than 1 DLL from .libs:\"\n"
     ]
    }
   ],
   "source": [
    "import tensorflow_hub as hub\n",
    "import tensorflow_text "
   ]
  },
  {
   "cell_type": "markdown",
   "metadata": {},
   "source": [
    "tensorflow_text module is used for finding the similarity matrix based on any multilingual sentences"
   ]
  },
  {
   "cell_type": "code",
   "execution_count": 10,
   "metadata": {
    "id": "5oegzZ5FvFXj",
    "scrolled": true
   },
   "outputs": [],
   "source": [
    "embed = hub.load(\"https://tfhub.dev/google/universal-sentence-encoder-multilingual/3\")"
   ]
  },
  {
   "cell_type": "code",
   "execution_count": 11,
   "metadata": {
    "id": "biYjlXeDvHSd"
   },
   "outputs": [],
   "source": [
    "# add vectors to the data\n",
    "for element in full_data:\n",
    "    element['vector'] = embed(element['summary'])[0]"
   ]
  },
  {
   "cell_type": "markdown",
   "metadata": {
    "id": "E0HNhlQtvKzx"
   },
   "source": [
    "# Make nearest neighbor models using Cosine Similarity"
   ]
  },
  {
   "cell_type": "code",
   "execution_count": 12,
   "metadata": {
    "id": "cIPyaBqNvMDq"
   },
   "outputs": [],
   "source": [
    "import numpy as np\n",
    "from sklearn.metrics.pairwise import cosine_similarity"
   ]
  },
  {
   "cell_type": "code",
   "execution_count": 13,
   "metadata": {
    "id": "ma5hoALnvOUq"
   },
   "outputs": [],
   "source": [
    "vectors = [item['vector'] for item in full_data]\n",
    "X = np.array(vectors)"
   ]
  },
  {
   "cell_type": "code",
   "execution_count": 14,
   "metadata": {
    "id": "nsIWvFthvQKa"
   },
   "outputs": [],
   "source": [
    "# calculate similarity based on cosine distance\n",
    "cos_sim = cosine_similarity(X)\n",
    "cos_indices = np.vstack([np.argsort(-arr) for arr in cos_sim])"
   ]
  },
  {
   "cell_type": "code",
   "execution_count": 15,
   "metadata": {
    "id": "-pM73W1dvStK"
   },
   "outputs": [],
   "source": [
    "# find most similar books for each case\n",
    "for i, book in enumerate(full_data):\n",
    "    book['cosine'] = cos_indices[i][1:21]"
   ]
  },
  {
   "cell_type": "code",
   "execution_count": 16,
   "metadata": {
    "id": "FK0ApPzKvbkC"
   },
   "outputs": [],
   "source": [
    "# remove vectors from dict\n",
    "for book in full_data:\n",
    "    book.pop('vector')"
   ]
  },
  {
   "cell_type": "code",
   "execution_count": 17,
   "metadata": {
    "id": "0OWbQPr1vddK"
   },
   "outputs": [
    {
     "data": {
      "text/plain": [
       "{'title': 'Venus in the Blind Spot',\n",
       " 'author': 'Junji Ito',\n",
       " 'ISBN': '9781974715473',\n",
       " 'summary': 'A \"best of\" collection of creepy tales from Eisner award winner and legendary horror master Junji Ito.This ultimate collection presents the most remarkable short works of Junji Ito’s career, featuring an adaptation of Rampo Edogawa’s classic horror story \"Human Chair\" and fan favorite \"The Enigma of Amigara Fault.\" In a deluxe presentation with special color pages and color illustrations from his most recent long-form manga No Longer Human, every page invites readers to revel in a world of terror.',\n",
       " 'image': '//images.leslibraires.ca/books/9781974715473/front/9781974715473_medium.jpg',\n",
       " 'cosine': array([6927,  164, 7410, 7513, 7032, 6604, 6930, 1219, 7397, 9810, 2070,\n",
       "        9417, 2387,  664, 3646,  399, 2008, 7044, 5765, 4995], dtype=int64)}"
      ]
     },
     "execution_count": 17,
     "metadata": {},
     "output_type": "execute_result"
    }
   ],
   "source": [
    "full_data[0]"
   ]
  },
  {
   "cell_type": "code",
   "execution_count": 18,
   "metadata": {
    "id": "J6KaiFBkvfT-"
   },
   "outputs": [],
   "source": [
    "import pickle\n",
    "\n",
    "with open('books.pkl', 'wb') as f:\n",
    "    pickle.dump(full_data, f)"
   ]
  },
  {
   "cell_type": "markdown",
   "metadata": {},
   "source": [
    "%store full_data"
   ]
  }
 ],
 "metadata": {
  "colab": {
   "name": "Untitled6.ipynb",
   "provenance": []
  },
  "kernelspec": {
   "display_name": "Python 3",
   "language": "python",
   "name": "python3"
  },
  "language_info": {
   "codemirror_mode": {
    "name": "ipython",
    "version": 3
   },
   "file_extension": ".py",
   "mimetype": "text/x-python",
   "name": "python",
   "nbconvert_exporter": "python",
   "pygments_lexer": "ipython3",
   "version": "3.8.5"
  }
 },
 "nbformat": 4,
 "nbformat_minor": 1
}
